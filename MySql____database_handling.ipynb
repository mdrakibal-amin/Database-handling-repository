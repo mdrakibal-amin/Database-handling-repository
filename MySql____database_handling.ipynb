{
 "cells": [
  {
   "cell_type": "markdown",
   "id": "b44fb9ca",
   "metadata": {},
   "source": [
    "# MySql"
   ]
  },
  {
   "cell_type": "code",
   "execution_count": 1,
   "id": "6ff4408c",
   "metadata": {},
   "outputs": [
    {
     "name": "stdout",
     "output_type": "stream",
     "text": [
      "Requirement already satisfied: mysqlclient in e:\\programs1\\python datamining1\\lib\\site-packages (2.1.0)\n"
     ]
    }
   ],
   "source": [
    "!pip install mysqlclient"
   ]
  },
  {
   "cell_type": "code",
   "execution_count": 2,
   "id": "730236c6",
   "metadata": {},
   "outputs": [
    {
     "name": "stdout",
     "output_type": "stream",
     "text": [
      "Requirement already satisfied: mysql-connector-python in e:\\programs1\\python datamining1\\lib\\site-packages (8.0.29)\n",
      "Requirement already satisfied: protobuf>=3.0.0 in e:\\programs1\\python datamining1\\lib\\site-packages (from mysql-connector-python) (3.20.1)\n"
     ]
    }
   ],
   "source": [
    "!pip install mysql-connector-python"
   ]
  },
  {
   "cell_type": "code",
   "execution_count": 3,
   "id": "abd0f2bd",
   "metadata": {},
   "outputs": [],
   "source": [
    "import mysql.connector as conn"
   ]
  },
  {
   "cell_type": "code",
   "execution_count": 7,
   "id": "ea6b1453",
   "metadata": {},
   "outputs": [
    {
     "data": {
      "text/plain": [
       "<mysql.connector.connection_cext.CMySQLConnection at 0x181de58b370>"
      ]
     },
     "execution_count": 7,
     "metadata": {},
     "output_type": "execute_result"
    }
   ],
   "source": [
    "# test mysql connection\n",
    "db = conn.connect(host=\"localhost\", user=\"root\", password=\"\")\n",
    "db"
   ]
  },
  {
   "cell_type": "code",
   "execution_count": 63,
   "id": "4756c9e0",
   "metadata": {},
   "outputs": [],
   "source": [
    "class DBOperation():\n",
    "    def __init__(self):\n",
    "        pass\n",
    "    def __db_conn(self, host=\"localhost\", user=\"root\", password=\"\" , db_name=\"\"):\n",
    "        try:\n",
    "            if db_name != \"\":\n",
    "                db = conn.connect(host=host, user=user, password=password, database=db_name)\n",
    "                return db\n",
    "            else:\n",
    "                db = conn.connect(host=host, user=user, password=password)\n",
    "                return db\n",
    "        except Exception as e:\n",
    "            print(e, \"Database Connection error\")\n",
    "            \n",
    "    def create_database(self, db_name):\n",
    "        try:\n",
    "            db = self.__db_conn()\n",
    "            sql = \"CREATE DATABASE {}\".format(db_name)\n",
    "            cursor = db.cursor()\n",
    "            cursor.execute(sql)\n",
    "            cursor.close()\n",
    "            db.close()\n",
    "            print(\"Database created successfully\")\n",
    "        \n",
    "        except Exception as e:\n",
    "            print(e, \"exception raise  when create a database\")\n",
    "            \n",
    "    def show_databases(self):\n",
    "        try:\n",
    "            db = self.__db_conn()\n",
    "            \n",
    "            sql = \"SHOW DATABASES\"\n",
    "            cursor = db.cursor()\n",
    "            cursor.execute(sql)\n",
    "            for i in cursor:\n",
    "                print(i)\n",
    "            cursor.close()\n",
    "            db.close()   \n",
    "            \n",
    "        \n",
    "        except Exception as e:\n",
    "            print(e,\"No database exists\")\n",
    "            \n",
    "    def create_table(self, db_name, table_name):\n",
    "        try:\n",
    "            db = self.__db_conn(db_name=db_name)\n",
    "            sql = \"CREATE TABLE {}(id integer primary key auto_increment, name varchar(255), dept varchar(255))\".format(table_name)\n",
    "            cursor = db.cursor()\n",
    "            cursor.execute(sql)\n",
    "            cursor.close()\n",
    "            db.close()\n",
    "            print(table_name,\"Table created successfully\")\n",
    "            \n",
    "        except Exception as e:\n",
    "            print(e,\"exception raise  when create a table\")\n",
    "            \n",
    "            \n",
    "    def insert_data_into_table(self, db_name, table_name, name, dept):\n",
    "        try:\n",
    "            db = self.__db_conn(db_name=db_name)\n",
    "            sql = \" INSERT INTO {}(id,name,dept) VALUES(%s, %s, %s)\".format(table_name)\n",
    "            values = (0, name, dept)\n",
    "            cursor = db.cursor()\n",
    "            cursor.execute(sql, values)\n",
    "            db.commit()\n",
    "            cursor.close()\n",
    "            db.close()\n",
    "            print(\"data inserted successfully\")\n",
    "            \n",
    "        except Exception as e:\n",
    "            print(e,\"exception raise  when insert data\")\n",
    "            \n",
    "    def fetch_data_from_table(self, db_name, table_name):\n",
    "        try:\n",
    "            db = self.__db_conn(db_name=db_name)\n",
    "            sql = \" SELECT * FROM {}\".format(table_name)\n",
    "            \n",
    "            cursor = db.cursor()\n",
    "            cursor.execute(sql)\n",
    "            res = cursor.fetchall()\n",
    "            for i in res:\n",
    "                print(i)\n",
    "            cursor.close()\n",
    "            db.close()\n",
    "            \n",
    "        except Exception as e:\n",
    "            print(e,\"exception raise  when fetch data from table\")\n",
    "            \n",
    "    def update_data_into_table(self, db_name, table_name, _id, name=\"\", dept=\"\"):\n",
    "        Name, Dept = \"\", \"\"\n",
    "        try:\n",
    "            db = self.__db_conn(db_name=db_name)\n",
    "            sql = \" SELECT * FROM {} WHERE id={}\".format(table_name, _id)\n",
    "            cursor = db.cursor()\n",
    "            cursor.execute(sql)\n",
    "            res = cursor.fetchone()\n",
    "            Name, Dept = res[1], res[2]\n",
    "            print(Name, Dept)\n",
    "            \n",
    "        except Exception as e:\n",
    "            print(e)\n",
    "           \n",
    "        try:\n",
    "            db = self.__db_conn(db_name=db_name)\n",
    "            if name!=\"\" or dept!=\"\":\n",
    "                sql = \" UPDATE {}SET name={},  dept={}  WHERE id={},\".format(table_name, name, dept, _id)\n",
    "            values = (0, name, dept)\n",
    "            cursor = db.cursor()\n",
    "            cursor.execute(sql, values)\n",
    "            db.commit()\n",
    "            cursor.close()\n",
    "            db.close()\n",
    "            print(\"data inserted successfully\")\n",
    "            \n",
    "        except Exception as e:\n",
    "            print(e, \"exception raise when insert data\")\n",
    "            \n",
    "            "
   ]
  },
  {
   "cell_type": "code",
   "execution_count": 64,
   "id": "87ed6c9b",
   "metadata": {},
   "outputs": [],
   "source": [
    "db_op = DBOperation()"
   ]
  },
  {
   "cell_type": "code",
   "execution_count": 50,
   "id": "6fde427a",
   "metadata": {},
   "outputs": [
    {
     "name": "stdout",
     "output_type": "stream",
     "text": [
      "1007 (HY000): Can't create database 'college'; database exists exception raise  when create a database\n"
     ]
    }
   ],
   "source": [
    "db_op.create_database(\"college\")"
   ]
  },
  {
   "cell_type": "code",
   "execution_count": 57,
   "id": "b5d4baf2",
   "metadata": {},
   "outputs": [
    {
     "name": "stdout",
     "output_type": "stream",
     "text": [
      "('bank',)\n",
      "('college',)\n",
      "('information_schema',)\n",
      "('mysql',)\n",
      "('performance_schema',)\n",
      "('phpmyadmin',)\n",
      "('school',)\n",
      "('student',)\n",
      "('test',)\n"
     ]
    }
   ],
   "source": [
    "db_op.show_databases()"
   ]
  },
  {
   "cell_type": "code",
   "execution_count": 58,
   "id": "c10402a7",
   "metadata": {},
   "outputs": [
    {
     "name": "stdout",
     "output_type": "stream",
     "text": [
      "1050 (42S01): Table 'student' already exists exception raise  when create a table\n"
     ]
    }
   ],
   "source": [
    "db_op.create_table(\"college\", \"student\")"
   ]
  },
  {
   "cell_type": "code",
   "execution_count": 59,
   "id": "d8790d68",
   "metadata": {},
   "outputs": [
    {
     "name": "stdout",
     "output_type": "stream",
     "text": [
      "data inserted successfully\n"
     ]
    }
   ],
   "source": [
    "db_op.insert_data_into_table(\"college\", \"student\", \"Rakib\" ,\"CSE\")"
   ]
  },
  {
   "cell_type": "code",
   "execution_count": 60,
   "id": "e40ca12d",
   "metadata": {},
   "outputs": [
    {
     "name": "stdout",
     "output_type": "stream",
     "text": [
      "(3, 'Rakib', 'CSE')\n"
     ]
    }
   ],
   "source": [
    "db_op.fetch_data_from_table(\"college\", \"student\")"
   ]
  },
  {
   "cell_type": "code",
   "execution_count": 67,
   "id": "3ea19ea7",
   "metadata": {},
   "outputs": [
    {
     "name": "stdout",
     "output_type": "stream",
     "text": [
      "Rakib CSE\n",
      "Not all parameters were used in the SQL statement exception raise when insert data\n"
     ]
    }
   ],
   "source": [
    "db_op.update_data_into_table(\"college\", \"student\", 3)"
   ]
  },
  {
   "cell_type": "code",
   "execution_count": 71,
   "id": "ed111d84",
   "metadata": {},
   "outputs": [
    {
     "name": "stdout",
     "output_type": "stream",
     "text": [
      "Rakib CSE\n",
      "Not all parameters were used in the SQL statement exception raise when insert data\n"
     ]
    }
   ],
   "source": [
    "db_op.update_data_into_table(\"college\", \"student\", 3)"
   ]
  },
  {
   "cell_type": "code",
   "execution_count": 72,
   "id": "98bff1af",
   "metadata": {},
   "outputs": [
    {
     "name": "stdout",
     "output_type": "stream",
     "text": [
      "data inserted successfully\n"
     ]
    }
   ],
   "source": [
    "db_op.insert_data_into_table(\"college\", \"student\", \"Nahid\" ,\"CSE\")"
   ]
  },
  {
   "cell_type": "code",
   "execution_count": 73,
   "id": "5aedcd71",
   "metadata": {},
   "outputs": [
    {
     "name": "stdout",
     "output_type": "stream",
     "text": [
      "(3, 'Rakib', 'CSE')\n",
      "(4, 'Nahid', 'CSE')\n"
     ]
    }
   ],
   "source": [
    "db_op.fetch_data_from_table(\"college\", \"student\")"
   ]
  },
  {
   "cell_type": "code",
   "execution_count": 74,
   "id": "bc13b856",
   "metadata": {},
   "outputs": [
    {
     "name": "stdout",
     "output_type": "stream",
     "text": [
      "Nahid CSE\n",
      "Not all parameters were used in the SQL statement exception raise when insert data\n"
     ]
    }
   ],
   "source": [
    "db_op.update_data_into_table(\"college\", \"student\", 4)"
   ]
  },
  {
   "cell_type": "code",
   "execution_count": 75,
   "id": "46ca2b4e",
   "metadata": {},
   "outputs": [
    {
     "name": "stdout",
     "output_type": "stream",
     "text": [
      "data inserted successfully\n"
     ]
    }
   ],
   "source": [
    "db_op.insert_data_into_table(\"college\", \"student\", \"Sazzad\" ,\"BBA\")"
   ]
  },
  {
   "cell_type": "code",
   "execution_count": 76,
   "id": "6c242638",
   "metadata": {},
   "outputs": [
    {
     "name": "stdout",
     "output_type": "stream",
     "text": [
      "(3, 'Rakib', 'CSE')\n",
      "(4, 'Nahid', 'CSE')\n",
      "(5, 'Sazzad', 'BBA')\n"
     ]
    }
   ],
   "source": [
    "db_op.fetch_data_from_table(\"college\", \"student\")"
   ]
  },
  {
   "cell_type": "code",
   "execution_count": 78,
   "id": "71887ca9",
   "metadata": {},
   "outputs": [
    {
     "name": "stdout",
     "output_type": "stream",
     "text": [
      "Sazzad BBA\n",
      "Not all parameters were used in the SQL statement exception raise when insert data\n"
     ]
    }
   ],
   "source": [
    "db_op.update_data_into_table(\"college\", \"student\", 5)"
   ]
  },
  {
   "cell_type": "code",
   "execution_count": null,
   "id": "4fc20cf7",
   "metadata": {},
   "outputs": [],
   "source": []
  }
 ],
 "metadata": {
  "kernelspec": {
   "display_name": "Python 3 (ipykernel)",
   "language": "python",
   "name": "python3"
  },
  "language_info": {
   "codemirror_mode": {
    "name": "ipython",
    "version": 3
   },
   "file_extension": ".py",
   "mimetype": "text/x-python",
   "name": "python",
   "nbconvert_exporter": "python",
   "pygments_lexer": "ipython3",
   "version": "3.9.7"
  }
 },
 "nbformat": 4,
 "nbformat_minor": 5
}
